{
 "cells": [
  {
   "cell_type": "code",
   "execution_count": 34,
   "metadata": {
    "collapsed": true
   },
   "outputs": [],
   "source": [
    "import random"
   ]
  },
  {
   "cell_type": "code",
   "execution_count": 35,
   "metadata": {
    "collapsed": true
   },
   "outputs": [],
   "source": [
    "import csv"
   ]
  },
  {
   "cell_type": "code",
   "execution_count": 36,
   "metadata": {
    "collapsed": true
   },
   "outputs": [],
   "source": [
    "parameters = {'color': ['red','blue','green','yellow'],\n",
    "              'sex': ['male', 'female'],\n",
    "              'occupation': ['student', 'marketer', 'scientist', 'surveyor'],\n",
    "              'choice': ['A', 'B', 'C']}    "
   ]
  },
  {
   "cell_type": "code",
   "execution_count": 37,
   "metadata": {},
   "outputs": [],
   "source": [
    "def generate_data(parameters_in, outcome_name, desired_rows, filename_out):\n",
    "    '''takes in a dictionary of parameters, which of those is the outcome,\n",
    "    rows of data required and desired output filename and creates file'''\n",
    "    headers = [k for k in parameters_in.keys() if k != outcome_name] #exclude the outcome from list of headers\n",
    "    headers.append(outcome_name) #then add it in so it is last\n",
    "    with open(filename_out, 'w', newline='') as csvfile:\n",
    "        testfile = csv.writer(csvfile)\n",
    "        testfile.writerow(headers) #give the csv file headers\n",
    "        for i in range(desired_rows):\n",
    "            testfile.writerow([random.choice(parameters_in[item]) for item in headers]) #generate the random data\n",
    "    "
   ]
  },
  {
   "cell_type": "code",
   "execution_count": 38,
   "metadata": {},
   "outputs": [],
   "source": [
    "generate_data(parameters, 'choice', 3, 'hello')"
   ]
  }
 ],
 "metadata": {
  "kernelspec": {
   "display_name": "Python 3",
   "language": "python",
   "name": "python3"
  },
  "language_info": {
   "codemirror_mode": {
    "name": "ipython",
    "version": 3
   },
   "file_extension": ".py",
   "mimetype": "text/x-python",
   "name": "python",
   "nbconvert_exporter": "python",
   "pygments_lexer": "ipython3",
   "version": "3.6.2"
  }
 },
 "nbformat": 4,
 "nbformat_minor": 2
}
